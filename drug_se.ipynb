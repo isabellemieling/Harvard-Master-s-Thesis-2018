{
 "cells": [
  {
   "cell_type": "code",
   "execution_count": 1,
   "metadata": {
    "collapsed": true
   },
   "outputs": [],
   "source": [
    "import pandas as pd\n",
    "import numpy as np"
   ]
  },
  {
   "cell_type": "code",
   "execution_count": 51,
   "metadata": {
    "collapsed": true
   },
   "outputs": [],
   "source": [
    "# import data \n",
    "sider = pd.read_csv(\"~/Desktop/Harvard/Thesis/Data/SIDER/meddra_all_se.tsv\", sep='\\t', header= None, \n",
    "                           names = ['stitch_id', 'stitch_id_stereochem', 'umls_id_label', 'meddra_concept_type', \n",
    "                                    'umls_id_meddra', 'side_effect'])\n",
    "\n",
    "# make new column with pubmed ID \n",
    "# stitchID with CID0 has stereochemistry, use that to determine pubchem_id\n",
    "sider['pubchem_id'] = sider['stitch_id_stereochem'].str.split('ID0').str.get(1)"
   ]
  },
  {
   "cell_type": "code",
   "execution_count": 52,
   "metadata": {},
   "outputs": [
    {
     "data": {
      "text/html": [
       "<div>\n",
       "<style>\n",
       "    .dataframe thead tr:only-child th {\n",
       "        text-align: right;\n",
       "    }\n",
       "\n",
       "    .dataframe thead th {\n",
       "        text-align: left;\n",
       "    }\n",
       "\n",
       "    .dataframe tbody tr th {\n",
       "        vertical-align: top;\n",
       "    }\n",
       "</style>\n",
       "<table border=\"1\" class=\"dataframe\">\n",
       "  <thead>\n",
       "    <tr style=\"text-align: right;\">\n",
       "      <th></th>\n",
       "      <th>stitch_id</th>\n",
       "      <th>stitch_id_stereochem</th>\n",
       "      <th>umls_id_label</th>\n",
       "      <th>meddra_concept_type</th>\n",
       "      <th>umls_id_meddra</th>\n",
       "      <th>side_effect</th>\n",
       "      <th>pubchem_id</th>\n",
       "    </tr>\n",
       "  </thead>\n",
       "  <tbody>\n",
       "    <tr>\n",
       "      <th>0</th>\n",
       "      <td>CID100000085</td>\n",
       "      <td>CID000010917</td>\n",
       "      <td>C0000729</td>\n",
       "      <td>LLT</td>\n",
       "      <td>C0000729</td>\n",
       "      <td>Abdominal cramps</td>\n",
       "      <td>00010917</td>\n",
       "    </tr>\n",
       "    <tr>\n",
       "      <th>1</th>\n",
       "      <td>CID100000085</td>\n",
       "      <td>CID000010917</td>\n",
       "      <td>C0000729</td>\n",
       "      <td>PT</td>\n",
       "      <td>C0000737</td>\n",
       "      <td>Abdominal pain</td>\n",
       "      <td>00010917</td>\n",
       "    </tr>\n",
       "    <tr>\n",
       "      <th>2</th>\n",
       "      <td>CID100000085</td>\n",
       "      <td>CID000010917</td>\n",
       "      <td>C0000737</td>\n",
       "      <td>LLT</td>\n",
       "      <td>C0000737</td>\n",
       "      <td>Abdominal pain</td>\n",
       "      <td>00010917</td>\n",
       "    </tr>\n",
       "    <tr>\n",
       "      <th>3</th>\n",
       "      <td>CID100000085</td>\n",
       "      <td>CID000010917</td>\n",
       "      <td>C0000737</td>\n",
       "      <td>PT</td>\n",
       "      <td>C0687713</td>\n",
       "      <td>Gastrointestinal pain</td>\n",
       "      <td>00010917</td>\n",
       "    </tr>\n",
       "    <tr>\n",
       "      <th>4</th>\n",
       "      <td>CID100000085</td>\n",
       "      <td>CID000010917</td>\n",
       "      <td>C0000737</td>\n",
       "      <td>PT</td>\n",
       "      <td>C0000737</td>\n",
       "      <td>Abdominal pain</td>\n",
       "      <td>00010917</td>\n",
       "    </tr>\n",
       "  </tbody>\n",
       "</table>\n",
       "</div>"
      ],
      "text/plain": [
       "      stitch_id stitch_id_stereochem umls_id_label meddra_concept_type  \\\n",
       "0  CID100000085         CID000010917      C0000729                 LLT   \n",
       "1  CID100000085         CID000010917      C0000729                  PT   \n",
       "2  CID100000085         CID000010917      C0000737                 LLT   \n",
       "3  CID100000085         CID000010917      C0000737                  PT   \n",
       "4  CID100000085         CID000010917      C0000737                  PT   \n",
       "\n",
       "  umls_id_meddra            side_effect pubchem_id  \n",
       "0       C0000729       Abdominal cramps   00010917  \n",
       "1       C0000737         Abdominal pain   00010917  \n",
       "2       C0000737         Abdominal pain   00010917  \n",
       "3       C0687713  Gastrointestinal pain   00010917  \n",
       "4       C0000737         Abdominal pain   00010917  "
      ]
     },
     "execution_count": 52,
     "metadata": {},
     "output_type": "execute_result"
    }
   ],
   "source": [
    "sider.head()"
   ]
  },
  {
   "cell_type": "markdown",
   "metadata": {},
   "source": [
    "# Output file with drug-se pairs from SIDER"
   ]
  },
  {
   "cell_type": "code",
   "execution_count": 46,
   "metadata": {
    "collapsed": true
   },
   "outputs": [],
   "source": [
    "sider = sider.drop(['stitch_id', 'stitch_id_stereochem', 'umls_id_label', 'meddra_concept_type', \n",
    "                                    'umls_id_meddra'], axis=1)"
   ]
  },
  {
   "cell_type": "code",
   "execution_count": 47,
   "metadata": {
    "scrolled": true
   },
   "outputs": [
    {
     "data": {
      "text/html": [
       "<div>\n",
       "<style>\n",
       "    .dataframe thead tr:only-child th {\n",
       "        text-align: right;\n",
       "    }\n",
       "\n",
       "    .dataframe thead th {\n",
       "        text-align: left;\n",
       "    }\n",
       "\n",
       "    .dataframe tbody tr th {\n",
       "        vertical-align: top;\n",
       "    }\n",
       "</style>\n",
       "<table border=\"1\" class=\"dataframe\">\n",
       "  <thead>\n",
       "    <tr style=\"text-align: right;\">\n",
       "      <th></th>\n",
       "      <th>side_effect</th>\n",
       "      <th>pubchem_id</th>\n",
       "    </tr>\n",
       "  </thead>\n",
       "  <tbody>\n",
       "    <tr>\n",
       "      <th>0</th>\n",
       "      <td>Abdominal cramps</td>\n",
       "      <td>00010917</td>\n",
       "    </tr>\n",
       "    <tr>\n",
       "      <th>1</th>\n",
       "      <td>Abdominal pain</td>\n",
       "      <td>00010917</td>\n",
       "    </tr>\n",
       "    <tr>\n",
       "      <th>2</th>\n",
       "      <td>Abdominal pain</td>\n",
       "      <td>00010917</td>\n",
       "    </tr>\n",
       "    <tr>\n",
       "      <th>3</th>\n",
       "      <td>Gastrointestinal pain</td>\n",
       "      <td>00010917</td>\n",
       "    </tr>\n",
       "    <tr>\n",
       "      <th>4</th>\n",
       "      <td>Abdominal pain</td>\n",
       "      <td>00010917</td>\n",
       "    </tr>\n",
       "  </tbody>\n",
       "</table>\n",
       "</div>"
      ],
      "text/plain": [
       "             side_effect pubchem_id\n",
       "0       Abdominal cramps   00010917\n",
       "1         Abdominal pain   00010917\n",
       "2         Abdominal pain   00010917\n",
       "3  Gastrointestinal pain   00010917\n",
       "4         Abdominal pain   00010917"
      ]
     },
     "execution_count": 47,
     "metadata": {},
     "output_type": "execute_result"
    }
   ],
   "source": [
    "sider.head()"
   ]
  },
  {
   "cell_type": "code",
   "execution_count": 48,
   "metadata": {
    "collapsed": true
   },
   "outputs": [],
   "source": [
    "pubchemID = [int(pc) for pc in sider.pubchem_id]\n",
    "sider['pubchem_ID'] = pubchemID\n",
    "sider = sider.drop(['pubchem_id'], axis = 1)"
   ]
  },
  {
   "cell_type": "code",
   "execution_count": 49,
   "metadata": {},
   "outputs": [
    {
     "data": {
      "text/html": [
       "<div>\n",
       "<style>\n",
       "    .dataframe thead tr:only-child th {\n",
       "        text-align: right;\n",
       "    }\n",
       "\n",
       "    .dataframe thead th {\n",
       "        text-align: left;\n",
       "    }\n",
       "\n",
       "    .dataframe tbody tr th {\n",
       "        vertical-align: top;\n",
       "    }\n",
       "</style>\n",
       "<table border=\"1\" class=\"dataframe\">\n",
       "  <thead>\n",
       "    <tr style=\"text-align: right;\">\n",
       "      <th></th>\n",
       "      <th>side_effect</th>\n",
       "      <th>pubchem_ID</th>\n",
       "    </tr>\n",
       "  </thead>\n",
       "  <tbody>\n",
       "    <tr>\n",
       "      <th>0</th>\n",
       "      <td>Abdominal cramps</td>\n",
       "      <td>10917</td>\n",
       "    </tr>\n",
       "    <tr>\n",
       "      <th>1</th>\n",
       "      <td>Abdominal pain</td>\n",
       "      <td>10917</td>\n",
       "    </tr>\n",
       "    <tr>\n",
       "      <th>2</th>\n",
       "      <td>Abdominal pain</td>\n",
       "      <td>10917</td>\n",
       "    </tr>\n",
       "    <tr>\n",
       "      <th>3</th>\n",
       "      <td>Gastrointestinal pain</td>\n",
       "      <td>10917</td>\n",
       "    </tr>\n",
       "    <tr>\n",
       "      <th>4</th>\n",
       "      <td>Abdominal pain</td>\n",
       "      <td>10917</td>\n",
       "    </tr>\n",
       "  </tbody>\n",
       "</table>\n",
       "</div>"
      ],
      "text/plain": [
       "             side_effect  pubchem_ID\n",
       "0       Abdominal cramps       10917\n",
       "1         Abdominal pain       10917\n",
       "2         Abdominal pain       10917\n",
       "3  Gastrointestinal pain       10917\n",
       "4         Abdominal pain       10917"
      ]
     },
     "execution_count": 49,
     "metadata": {},
     "output_type": "execute_result"
    }
   ],
   "source": [
    "sider.head()"
   ]
  },
  {
   "cell_type": "code",
   "execution_count": 50,
   "metadata": {
    "collapsed": true
   },
   "outputs": [],
   "source": [
    "sider = sider.drop_duplicates()"
   ]
  },
  {
   "cell_type": "code",
   "execution_count": 51,
   "metadata": {},
   "outputs": [
    {
     "data": {
      "text/html": [
       "<div>\n",
       "<style>\n",
       "    .dataframe thead tr:only-child th {\n",
       "        text-align: right;\n",
       "    }\n",
       "\n",
       "    .dataframe thead th {\n",
       "        text-align: left;\n",
       "    }\n",
       "\n",
       "    .dataframe tbody tr th {\n",
       "        vertical-align: top;\n",
       "    }\n",
       "</style>\n",
       "<table border=\"1\" class=\"dataframe\">\n",
       "  <thead>\n",
       "    <tr style=\"text-align: right;\">\n",
       "      <th></th>\n",
       "      <th>side_effect</th>\n",
       "      <th>pubchem_ID</th>\n",
       "    </tr>\n",
       "  </thead>\n",
       "  <tbody>\n",
       "    <tr>\n",
       "      <th>0</th>\n",
       "      <td>Abdominal cramps</td>\n",
       "      <td>10917</td>\n",
       "    </tr>\n",
       "    <tr>\n",
       "      <th>1</th>\n",
       "      <td>Abdominal pain</td>\n",
       "      <td>10917</td>\n",
       "    </tr>\n",
       "    <tr>\n",
       "      <th>3</th>\n",
       "      <td>Gastrointestinal pain</td>\n",
       "      <td>10917</td>\n",
       "    </tr>\n",
       "    <tr>\n",
       "      <th>5</th>\n",
       "      <td>Amblyopia</td>\n",
       "      <td>10917</td>\n",
       "    </tr>\n",
       "    <tr>\n",
       "      <th>7</th>\n",
       "      <td>Anaemia</td>\n",
       "      <td>10917</td>\n",
       "    </tr>\n",
       "    <tr>\n",
       "      <th>9</th>\n",
       "      <td>Anorexia</td>\n",
       "      <td>10917</td>\n",
       "    </tr>\n",
       "    <tr>\n",
       "      <th>10</th>\n",
       "      <td>Decreased appetite</td>\n",
       "      <td>10917</td>\n",
       "    </tr>\n",
       "    <tr>\n",
       "      <th>11</th>\n",
       "      <td>Anxiety</td>\n",
       "      <td>10917</td>\n",
       "    </tr>\n",
       "    <tr>\n",
       "      <th>13</th>\n",
       "      <td>Arrhythmia</td>\n",
       "      <td>10917</td>\n",
       "    </tr>\n",
       "    <tr>\n",
       "      <th>15</th>\n",
       "      <td>Asthenia</td>\n",
       "      <td>10917</td>\n",
       "    </tr>\n",
       "  </tbody>\n",
       "</table>\n",
       "</div>"
      ],
      "text/plain": [
       "              side_effect  pubchem_ID\n",
       "0        Abdominal cramps       10917\n",
       "1          Abdominal pain       10917\n",
       "3   Gastrointestinal pain       10917\n",
       "5               Amblyopia       10917\n",
       "7                 Anaemia       10917\n",
       "9                Anorexia       10917\n",
       "10     Decreased appetite       10917\n",
       "11                Anxiety       10917\n",
       "13             Arrhythmia       10917\n",
       "15               Asthenia       10917"
      ]
     },
     "execution_count": 51,
     "metadata": {},
     "output_type": "execute_result"
    }
   ],
   "source": [
    "sider.head(10)"
   ]
  },
  {
   "cell_type": "code",
   "execution_count": 52,
   "metadata": {},
   "outputs": [
    {
     "data": {
      "text/plain": [
       "['side_effect', 'pubchem_ID']"
      ]
     },
     "execution_count": 52,
     "metadata": {},
     "output_type": "execute_result"
    }
   ],
   "source": [
    "sider.columns.tolist()"
   ]
  },
  {
   "cell_type": "code",
   "execution_count": 53,
   "metadata": {
    "collapsed": true
   },
   "outputs": [],
   "source": [
    "sider = sider[['pubchem_ID','side_effect' ]]"
   ]
  },
  {
   "cell_type": "code",
   "execution_count": 54,
   "metadata": {},
   "outputs": [
    {
     "data": {
      "text/html": [
       "<div>\n",
       "<style>\n",
       "    .dataframe thead tr:only-child th {\n",
       "        text-align: right;\n",
       "    }\n",
       "\n",
       "    .dataframe thead th {\n",
       "        text-align: left;\n",
       "    }\n",
       "\n",
       "    .dataframe tbody tr th {\n",
       "        vertical-align: top;\n",
       "    }\n",
       "</style>\n",
       "<table border=\"1\" class=\"dataframe\">\n",
       "  <thead>\n",
       "    <tr style=\"text-align: right;\">\n",
       "      <th></th>\n",
       "      <th>pubchem_ID</th>\n",
       "      <th>side_effect</th>\n",
       "    </tr>\n",
       "  </thead>\n",
       "  <tbody>\n",
       "    <tr>\n",
       "      <th>0</th>\n",
       "      <td>10917</td>\n",
       "      <td>Abdominal cramps</td>\n",
       "    </tr>\n",
       "    <tr>\n",
       "      <th>1</th>\n",
       "      <td>10917</td>\n",
       "      <td>Abdominal pain</td>\n",
       "    </tr>\n",
       "    <tr>\n",
       "      <th>3</th>\n",
       "      <td>10917</td>\n",
       "      <td>Gastrointestinal pain</td>\n",
       "    </tr>\n",
       "    <tr>\n",
       "      <th>5</th>\n",
       "      <td>10917</td>\n",
       "      <td>Amblyopia</td>\n",
       "    </tr>\n",
       "    <tr>\n",
       "      <th>7</th>\n",
       "      <td>10917</td>\n",
       "      <td>Anaemia</td>\n",
       "    </tr>\n",
       "  </tbody>\n",
       "</table>\n",
       "</div>"
      ],
      "text/plain": [
       "   pubchem_ID            side_effect\n",
       "0       10917       Abdominal cramps\n",
       "1       10917         Abdominal pain\n",
       "3       10917  Gastrointestinal pain\n",
       "5       10917              Amblyopia\n",
       "7       10917                Anaemia"
      ]
     },
     "execution_count": 54,
     "metadata": {},
     "output_type": "execute_result"
    }
   ],
   "source": [
    "sider.head()"
   ]
  },
  {
   "cell_type": "code",
   "execution_count": 55,
   "metadata": {
    "collapsed": true
   },
   "outputs": [],
   "source": [
    "#sider.to_csv(\"~/Desktop/Harvard/Thesis/Data/SIDER/pubchem_se_sider.txt\", sep = '\\t', index = False)"
   ]
  },
  {
   "cell_type": "markdown",
   "metadata": {
    "collapsed": true
   },
   "source": [
    "# Output file with drug-se pairs from SIDER using Preferred-Term Pairs only "
   ]
  },
  {
   "cell_type": "code",
   "execution_count": 53,
   "metadata": {
    "collapsed": true
   },
   "outputs": [],
   "source": [
    "sider = sider.drop(['stitch_id', 'stitch_id_stereochem', 'umls_id_label', \n",
    "                                    'umls_id_meddra'], axis=1)"
   ]
  },
  {
   "cell_type": "code",
   "execution_count": 54,
   "metadata": {
    "collapsed": true
   },
   "outputs": [],
   "source": [
    "pubchemID = [int(pc) for pc in sider.pubchem_id]\n",
    "sider['pubchem_ID'] = pubchemID\n",
    "sider = sider.drop(['pubchem_id'], axis = 1)"
   ]
  },
  {
   "cell_type": "code",
   "execution_count": 55,
   "metadata": {},
   "outputs": [
    {
     "data": {
      "text/html": [
       "<div>\n",
       "<style>\n",
       "    .dataframe thead tr:only-child th {\n",
       "        text-align: right;\n",
       "    }\n",
       "\n",
       "    .dataframe thead th {\n",
       "        text-align: left;\n",
       "    }\n",
       "\n",
       "    .dataframe tbody tr th {\n",
       "        vertical-align: top;\n",
       "    }\n",
       "</style>\n",
       "<table border=\"1\" class=\"dataframe\">\n",
       "  <thead>\n",
       "    <tr style=\"text-align: right;\">\n",
       "      <th></th>\n",
       "      <th>meddra_concept_type</th>\n",
       "      <th>side_effect</th>\n",
       "      <th>pubchem_ID</th>\n",
       "    </tr>\n",
       "  </thead>\n",
       "  <tbody>\n",
       "    <tr>\n",
       "      <th>0</th>\n",
       "      <td>LLT</td>\n",
       "      <td>Abdominal cramps</td>\n",
       "      <td>10917</td>\n",
       "    </tr>\n",
       "    <tr>\n",
       "      <th>1</th>\n",
       "      <td>PT</td>\n",
       "      <td>Abdominal pain</td>\n",
       "      <td>10917</td>\n",
       "    </tr>\n",
       "    <tr>\n",
       "      <th>2</th>\n",
       "      <td>LLT</td>\n",
       "      <td>Abdominal pain</td>\n",
       "      <td>10917</td>\n",
       "    </tr>\n",
       "    <tr>\n",
       "      <th>3</th>\n",
       "      <td>PT</td>\n",
       "      <td>Gastrointestinal pain</td>\n",
       "      <td>10917</td>\n",
       "    </tr>\n",
       "    <tr>\n",
       "      <th>4</th>\n",
       "      <td>PT</td>\n",
       "      <td>Abdominal pain</td>\n",
       "      <td>10917</td>\n",
       "    </tr>\n",
       "  </tbody>\n",
       "</table>\n",
       "</div>"
      ],
      "text/plain": [
       "  meddra_concept_type            side_effect  pubchem_ID\n",
       "0                 LLT       Abdominal cramps       10917\n",
       "1                  PT         Abdominal pain       10917\n",
       "2                 LLT         Abdominal pain       10917\n",
       "3                  PT  Gastrointestinal pain       10917\n",
       "4                  PT         Abdominal pain       10917"
      ]
     },
     "execution_count": 55,
     "metadata": {},
     "output_type": "execute_result"
    }
   ],
   "source": [
    "sider.head()"
   ]
  },
  {
   "cell_type": "code",
   "execution_count": 56,
   "metadata": {},
   "outputs": [
    {
     "data": {
      "text/plain": [
       "309849"
      ]
     },
     "execution_count": 56,
     "metadata": {},
     "output_type": "execute_result"
    }
   ],
   "source": [
    "len(sider)"
   ]
  },
  {
   "cell_type": "code",
   "execution_count": 57,
   "metadata": {
    "collapsed": true
   },
   "outputs": [],
   "source": [
    "## remove all rows for which the concept type is not equal to PT \n",
    "sider = sider[sider['meddra_concept_type'] =='PT']"
   ]
  },
  {
   "cell_type": "code",
   "execution_count": 58,
   "metadata": {},
   "outputs": [
    {
     "data": {
      "text/html": [
       "<div>\n",
       "<style>\n",
       "    .dataframe thead tr:only-child th {\n",
       "        text-align: right;\n",
       "    }\n",
       "\n",
       "    .dataframe thead th {\n",
       "        text-align: left;\n",
       "    }\n",
       "\n",
       "    .dataframe tbody tr th {\n",
       "        vertical-align: top;\n",
       "    }\n",
       "</style>\n",
       "<table border=\"1\" class=\"dataframe\">\n",
       "  <thead>\n",
       "    <tr style=\"text-align: right;\">\n",
       "      <th></th>\n",
       "      <th>meddra_concept_type</th>\n",
       "      <th>side_effect</th>\n",
       "      <th>pubchem_ID</th>\n",
       "    </tr>\n",
       "  </thead>\n",
       "  <tbody>\n",
       "    <tr>\n",
       "      <th>1</th>\n",
       "      <td>PT</td>\n",
       "      <td>Abdominal pain</td>\n",
       "      <td>10917</td>\n",
       "    </tr>\n",
       "    <tr>\n",
       "      <th>3</th>\n",
       "      <td>PT</td>\n",
       "      <td>Gastrointestinal pain</td>\n",
       "      <td>10917</td>\n",
       "    </tr>\n",
       "    <tr>\n",
       "      <th>4</th>\n",
       "      <td>PT</td>\n",
       "      <td>Abdominal pain</td>\n",
       "      <td>10917</td>\n",
       "    </tr>\n",
       "    <tr>\n",
       "      <th>6</th>\n",
       "      <td>PT</td>\n",
       "      <td>Amblyopia</td>\n",
       "      <td>10917</td>\n",
       "    </tr>\n",
       "    <tr>\n",
       "      <th>8</th>\n",
       "      <td>PT</td>\n",
       "      <td>Anaemia</td>\n",
       "      <td>10917</td>\n",
       "    </tr>\n",
       "  </tbody>\n",
       "</table>\n",
       "</div>"
      ],
      "text/plain": [
       "  meddra_concept_type            side_effect  pubchem_ID\n",
       "1                  PT         Abdominal pain       10917\n",
       "3                  PT  Gastrointestinal pain       10917\n",
       "4                  PT         Abdominal pain       10917\n",
       "6                  PT              Amblyopia       10917\n",
       "8                  PT                Anaemia       10917"
      ]
     },
     "execution_count": 58,
     "metadata": {},
     "output_type": "execute_result"
    }
   ],
   "source": [
    "sider.head()"
   ]
  },
  {
   "cell_type": "code",
   "execution_count": 59,
   "metadata": {},
   "outputs": [
    {
     "data": {
      "text/plain": [
       "163206"
      ]
     },
     "execution_count": 59,
     "metadata": {},
     "output_type": "execute_result"
    }
   ],
   "source": [
    "len(sider)"
   ]
  },
  {
   "cell_type": "code",
   "execution_count": 60,
   "metadata": {
    "collapsed": true
   },
   "outputs": [],
   "source": [
    "sider = sider.drop(['meddra_concept_type'], axis = 1)"
   ]
  },
  {
   "cell_type": "code",
   "execution_count": 61,
   "metadata": {
    "collapsed": true
   },
   "outputs": [],
   "source": [
    "sider = sider[['pubchem_ID','side_effect' ]]"
   ]
  },
  {
   "cell_type": "code",
   "execution_count": 62,
   "metadata": {
    "collapsed": true
   },
   "outputs": [],
   "source": [
    "sider = sider.drop_duplicates()"
   ]
  },
  {
   "cell_type": "code",
   "execution_count": 63,
   "metadata": {},
   "outputs": [
    {
     "data": {
      "text/html": [
       "<div>\n",
       "<style>\n",
       "    .dataframe thead tr:only-child th {\n",
       "        text-align: right;\n",
       "    }\n",
       "\n",
       "    .dataframe thead th {\n",
       "        text-align: left;\n",
       "    }\n",
       "\n",
       "    .dataframe tbody tr th {\n",
       "        vertical-align: top;\n",
       "    }\n",
       "</style>\n",
       "<table border=\"1\" class=\"dataframe\">\n",
       "  <thead>\n",
       "    <tr style=\"text-align: right;\">\n",
       "      <th></th>\n",
       "      <th>pubchem_ID</th>\n",
       "      <th>side_effect</th>\n",
       "    </tr>\n",
       "  </thead>\n",
       "  <tbody>\n",
       "    <tr>\n",
       "      <th>1</th>\n",
       "      <td>10917</td>\n",
       "      <td>Abdominal pain</td>\n",
       "    </tr>\n",
       "    <tr>\n",
       "      <th>3</th>\n",
       "      <td>10917</td>\n",
       "      <td>Gastrointestinal pain</td>\n",
       "    </tr>\n",
       "    <tr>\n",
       "      <th>6</th>\n",
       "      <td>10917</td>\n",
       "      <td>Amblyopia</td>\n",
       "    </tr>\n",
       "    <tr>\n",
       "      <th>8</th>\n",
       "      <td>10917</td>\n",
       "      <td>Anaemia</td>\n",
       "    </tr>\n",
       "    <tr>\n",
       "      <th>10</th>\n",
       "      <td>10917</td>\n",
       "      <td>Decreased appetite</td>\n",
       "    </tr>\n",
       "  </tbody>\n",
       "</table>\n",
       "</div>"
      ],
      "text/plain": [
       "    pubchem_ID            side_effect\n",
       "1        10917         Abdominal pain\n",
       "3        10917  Gastrointestinal pain\n",
       "6        10917              Amblyopia\n",
       "8        10917                Anaemia\n",
       "10       10917     Decreased appetite"
      ]
     },
     "execution_count": 63,
     "metadata": {},
     "output_type": "execute_result"
    }
   ],
   "source": [
    "sider.head()"
   ]
  },
  {
   "cell_type": "code",
   "execution_count": 68,
   "metadata": {
    "collapsed": true
   },
   "outputs": [],
   "source": [
    "#sider.to_csv(\"~/Desktop/Harvard/Thesis/Data/SIDER/pubchem_sePT_sider.txt\", sep = '\\t', index = False)"
   ]
  },
  {
   "cell_type": "markdown",
   "metadata": {
    "collapsed": true
   },
   "source": [
    "# Output file with drug-se pairs SIDER using DrugBank overlap terms only"
   ]
  },
  {
   "cell_type": "code",
   "execution_count": 35,
   "metadata": {
    "collapsed": true
   },
   "outputs": [],
   "source": [
    "# import data \n",
    "sider_db_overlap = pd.read_csv(\"~/Desktop/Harvard/Thesis/Data/SIDER/smiles/sider_drugbank_smiles_overlap.txt\", \n",
    "                    sep='\\t')"
   ]
  },
  {
   "cell_type": "code",
   "execution_count": 71,
   "metadata": {
    "collapsed": true
   },
   "outputs": [],
   "source": [
    "sider = sider.drop(['stitch_id', 'stitch_id_stereochem', 'umls_id_label', 'meddra_concept_type', \n",
    "                                    'umls_id_meddra'], axis=1)"
   ]
  },
  {
   "cell_type": "code",
   "execution_count": 17,
   "metadata": {},
   "outputs": [
    {
     "data": {
      "text/html": [
       "<div>\n",
       "<style>\n",
       "    .dataframe thead tr:only-child th {\n",
       "        text-align: right;\n",
       "    }\n",
       "\n",
       "    .dataframe thead th {\n",
       "        text-align: left;\n",
       "    }\n",
       "\n",
       "    .dataframe tbody tr th {\n",
       "        vertical-align: top;\n",
       "    }\n",
       "</style>\n",
       "<table border=\"1\" class=\"dataframe\">\n",
       "  <thead>\n",
       "    <tr style=\"text-align: right;\">\n",
       "      <th></th>\n",
       "      <th>pubchem_ID</th>\n",
       "      <th>side_effect</th>\n",
       "    </tr>\n",
       "  </thead>\n",
       "  <tbody>\n",
       "    <tr>\n",
       "      <th>1</th>\n",
       "      <td>10917</td>\n",
       "      <td>Abdominal pain</td>\n",
       "    </tr>\n",
       "    <tr>\n",
       "      <th>3</th>\n",
       "      <td>10917</td>\n",
       "      <td>Gastrointestinal pain</td>\n",
       "    </tr>\n",
       "    <tr>\n",
       "      <th>6</th>\n",
       "      <td>10917</td>\n",
       "      <td>Amblyopia</td>\n",
       "    </tr>\n",
       "    <tr>\n",
       "      <th>8</th>\n",
       "      <td>10917</td>\n",
       "      <td>Anaemia</td>\n",
       "    </tr>\n",
       "    <tr>\n",
       "      <th>10</th>\n",
       "      <td>10917</td>\n",
       "      <td>Decreased appetite</td>\n",
       "    </tr>\n",
       "  </tbody>\n",
       "</table>\n",
       "</div>"
      ],
      "text/plain": [
       "    pubchem_ID            side_effect\n",
       "1        10917         Abdominal pain\n",
       "3        10917  Gastrointestinal pain\n",
       "6        10917              Amblyopia\n",
       "8        10917                Anaemia\n",
       "10       10917     Decreased appetite"
      ]
     },
     "execution_count": 17,
     "metadata": {},
     "output_type": "execute_result"
    }
   ],
   "source": [
    "sider.head()"
   ]
  },
  {
   "cell_type": "code",
   "execution_count": 36,
   "metadata": {},
   "outputs": [
    {
     "data": {
      "text/html": [
       "<div>\n",
       "<style>\n",
       "    .dataframe thead tr:only-child th {\n",
       "        text-align: right;\n",
       "    }\n",
       "\n",
       "    .dataframe thead th {\n",
       "        text-align: left;\n",
       "    }\n",
       "\n",
       "    .dataframe tbody tr th {\n",
       "        vertical-align: top;\n",
       "    }\n",
       "</style>\n",
       "<table border=\"1\" class=\"dataframe\">\n",
       "  <thead>\n",
       "    <tr style=\"text-align: right;\">\n",
       "      <th></th>\n",
       "      <th>pubchem_id</th>\n",
       "      <th>SMILES[1]</th>\n",
       "      <th>SMILES[2]</th>\n",
       "      <th>Canonical_Smiles</th>\n",
       "      <th>DrugID</th>\n",
       "      <th>Name</th>\n",
       "      <th>Status</th>\n",
       "      <th>Type</th>\n",
       "    </tr>\n",
       "  </thead>\n",
       "  <tbody>\n",
       "    <tr>\n",
       "      <th>0</th>\n",
       "      <td>10917</td>\n",
       "      <td>C[N+](C)(C)C[C@@H](CC(=O)[O-])O</td>\n",
       "      <td>C[N+](C)(C)C[C@H](O)CC([O-])=O</td>\n",
       "      <td>C[N+](C)(C)C[C@H](O)CC(=O)[O-]</td>\n",
       "      <td>DB00583</td>\n",
       "      <td>L-Carnitine</td>\n",
       "      <td>approved</td>\n",
       "      <td>small molecule</td>\n",
       "    </tr>\n",
       "    <tr>\n",
       "      <th>1</th>\n",
       "      <td>119</td>\n",
       "      <td>C(CC(=O)O)CN</td>\n",
       "      <td>NCCCC(O)=O</td>\n",
       "      <td>NCCCC(=O)O</td>\n",
       "      <td>DB02530</td>\n",
       "      <td>Gamma(Amino)-Butyric Acid</td>\n",
       "      <td>experimental</td>\n",
       "      <td>small molecule</td>\n",
       "    </tr>\n",
       "    <tr>\n",
       "      <th>2</th>\n",
       "      <td>137</td>\n",
       "      <td>C(CC(=O)O)C(=O)CN</td>\n",
       "      <td>NCC(=O)CCC(O)=O</td>\n",
       "      <td>NCC(=O)CCC(=O)O</td>\n",
       "      <td>DB00855</td>\n",
       "      <td>Aminolevulinic acid</td>\n",
       "      <td>approved</td>\n",
       "      <td>small molecule</td>\n",
       "    </tr>\n",
       "    <tr>\n",
       "      <th>3</th>\n",
       "      <td>444412</td>\n",
       "      <td>CN1[C@H](CNC2=C1C(=O)N=C(N2)N)CNC3=CC=C(C=C3)C...</td>\n",
       "      <td>CN1[C@@H](CNC2=CC=C(C=C2)C(=O)N[C@@H](CCC(O)=O...</td>\n",
       "      <td>CN1[C@@H](CNc2ccc(cc2)C(=O)N[C@@H](CCC(=O)O)C(...</td>\n",
       "      <td>DB04789</td>\n",
       "      <td>5-methyltetrahydrofolate</td>\n",
       "      <td>experimental</td>\n",
       "      <td>small molecule</td>\n",
       "    </tr>\n",
       "    <tr>\n",
       "      <th>4</th>\n",
       "      <td>5280360</td>\n",
       "      <td>CCCCC[C@@H](/C=C/[C@H]1[C@@H](CC(=O)[C@@H]1C/C...</td>\n",
       "      <td>CCCCC[C@H](O)\\C=C\\[C@H]1[C@H](O)CC(=O)[C@@H]1C...</td>\n",
       "      <td>CCCCC[C@H](O)\\C=C\\[C@H]1[C@H](O)CC(=O)[C@@H]1C...</td>\n",
       "      <td>DB00917</td>\n",
       "      <td>Dinoprostone</td>\n",
       "      <td>approved</td>\n",
       "      <td>small molecule</td>\n",
       "    </tr>\n",
       "  </tbody>\n",
       "</table>\n",
       "</div>"
      ],
      "text/plain": [
       "   pubchem_id                                          SMILES[1]  \\\n",
       "0       10917                    C[N+](C)(C)C[C@@H](CC(=O)[O-])O   \n",
       "1         119                                       C(CC(=O)O)CN   \n",
       "2         137                                  C(CC(=O)O)C(=O)CN   \n",
       "3      444412  CN1[C@H](CNC2=C1C(=O)N=C(N2)N)CNC3=CC=C(C=C3)C...   \n",
       "4     5280360  CCCCC[C@@H](/C=C/[C@H]1[C@@H](CC(=O)[C@@H]1C/C...   \n",
       "\n",
       "                                           SMILES[2]  \\\n",
       "0                     C[N+](C)(C)C[C@H](O)CC([O-])=O   \n",
       "1                                         NCCCC(O)=O   \n",
       "2                                    NCC(=O)CCC(O)=O   \n",
       "3  CN1[C@@H](CNC2=CC=C(C=C2)C(=O)N[C@@H](CCC(O)=O...   \n",
       "4  CCCCC[C@H](O)\\C=C\\[C@H]1[C@H](O)CC(=O)[C@@H]1C...   \n",
       "\n",
       "                                    Canonical_Smiles   DrugID  \\\n",
       "0                     C[N+](C)(C)C[C@H](O)CC(=O)[O-]  DB00583   \n",
       "1                                         NCCCC(=O)O  DB02530   \n",
       "2                                    NCC(=O)CCC(=O)O  DB00855   \n",
       "3  CN1[C@@H](CNc2ccc(cc2)C(=O)N[C@@H](CCC(=O)O)C(...  DB04789   \n",
       "4  CCCCC[C@H](O)\\C=C\\[C@H]1[C@H](O)CC(=O)[C@@H]1C...  DB00917   \n",
       "\n",
       "                        Name        Status            Type  \n",
       "0                L-Carnitine      approved  small molecule  \n",
       "1  Gamma(Amino)-Butyric Acid  experimental  small molecule  \n",
       "2        Aminolevulinic acid      approved  small molecule  \n",
       "3   5-methyltetrahydrofolate  experimental  small molecule  \n",
       "4               Dinoprostone      approved  small molecule  "
      ]
     },
     "execution_count": 36,
     "metadata": {},
     "output_type": "execute_result"
    }
   ],
   "source": [
    "sider_db_overlap.head()"
   ]
  },
  {
   "cell_type": "code",
   "execution_count": 74,
   "metadata": {
    "collapsed": true
   },
   "outputs": [],
   "source": [
    "pubchemID = [int(pc) for pc in sider.pubchem_id]\n",
    "sider['pubchem_ID'] = pubchemID\n",
    "sider = sider.drop(['pubchem_id'], axis = 1)"
   ]
  },
  {
   "cell_type": "code",
   "execution_count": 37,
   "metadata": {},
   "outputs": [
    {
     "data": {
      "text/html": [
       "<div>\n",
       "<style>\n",
       "    .dataframe thead tr:only-child th {\n",
       "        text-align: right;\n",
       "    }\n",
       "\n",
       "    .dataframe thead th {\n",
       "        text-align: left;\n",
       "    }\n",
       "\n",
       "    .dataframe tbody tr th {\n",
       "        vertical-align: top;\n",
       "    }\n",
       "</style>\n",
       "<table border=\"1\" class=\"dataframe\">\n",
       "  <thead>\n",
       "    <tr style=\"text-align: right;\">\n",
       "      <th></th>\n",
       "      <th>pubchem_ID</th>\n",
       "      <th>side_effect</th>\n",
       "    </tr>\n",
       "  </thead>\n",
       "  <tbody>\n",
       "    <tr>\n",
       "      <th>1</th>\n",
       "      <td>10917</td>\n",
       "      <td>Abdominal pain</td>\n",
       "    </tr>\n",
       "    <tr>\n",
       "      <th>3</th>\n",
       "      <td>10917</td>\n",
       "      <td>Gastrointestinal pain</td>\n",
       "    </tr>\n",
       "    <tr>\n",
       "      <th>6</th>\n",
       "      <td>10917</td>\n",
       "      <td>Amblyopia</td>\n",
       "    </tr>\n",
       "    <tr>\n",
       "      <th>8</th>\n",
       "      <td>10917</td>\n",
       "      <td>Anaemia</td>\n",
       "    </tr>\n",
       "    <tr>\n",
       "      <th>10</th>\n",
       "      <td>10917</td>\n",
       "      <td>Decreased appetite</td>\n",
       "    </tr>\n",
       "  </tbody>\n",
       "</table>\n",
       "</div>"
      ],
      "text/plain": [
       "    pubchem_ID            side_effect\n",
       "1        10917         Abdominal pain\n",
       "3        10917  Gastrointestinal pain\n",
       "6        10917              Amblyopia\n",
       "8        10917                Anaemia\n",
       "10       10917     Decreased appetite"
      ]
     },
     "execution_count": 37,
     "metadata": {},
     "output_type": "execute_result"
    }
   ],
   "source": [
    "sider.head()"
   ]
  },
  {
   "cell_type": "code",
   "execution_count": 38,
   "metadata": {},
   "outputs": [
    {
     "data": {
      "text/plain": [
       "numpy.int64"
      ]
     },
     "execution_count": 38,
     "metadata": {},
     "output_type": "execute_result"
    }
   ],
   "source": [
    "type(sider_db_overlap.pubchem_id[3])"
   ]
  },
  {
   "cell_type": "code",
   "execution_count": 39,
   "metadata": {},
   "outputs": [
    {
     "data": {
      "text/plain": [
       "numpy.int64"
      ]
     },
     "execution_count": 39,
     "metadata": {},
     "output_type": "execute_result"
    }
   ],
   "source": [
    "type(sider.pubchem_ID[3])"
   ]
  },
  {
   "cell_type": "code",
   "execution_count": 40,
   "metadata": {
    "collapsed": true
   },
   "outputs": [],
   "source": [
    "overlap = list(sider_db_overlap.pubchem_id)"
   ]
  },
  {
   "cell_type": "code",
   "execution_count": 44,
   "metadata": {
    "collapsed": true
   },
   "outputs": [],
   "source": [
    "sider = sider[sider['pubchem_ID'].isin(overlap) == True]"
   ]
  },
  {
   "cell_type": "code",
   "execution_count": 80,
   "metadata": {
    "collapsed": true
   },
   "outputs": [],
   "source": [
    "sider = sider[['pubchem_ID','side_effect' ]]"
   ]
  },
  {
   "cell_type": "code",
   "execution_count": 42,
   "metadata": {
    "collapsed": true
   },
   "outputs": [],
   "source": [
    "sider = sider.drop_duplicates()"
   ]
  },
  {
   "cell_type": "code",
   "execution_count": 43,
   "metadata": {},
   "outputs": [
    {
     "data": {
      "text/html": [
       "<div>\n",
       "<style>\n",
       "    .dataframe thead tr:only-child th {\n",
       "        text-align: right;\n",
       "    }\n",
       "\n",
       "    .dataframe thead th {\n",
       "        text-align: left;\n",
       "    }\n",
       "\n",
       "    .dataframe tbody tr th {\n",
       "        vertical-align: top;\n",
       "    }\n",
       "</style>\n",
       "<table border=\"1\" class=\"dataframe\">\n",
       "  <thead>\n",
       "    <tr style=\"text-align: right;\">\n",
       "      <th></th>\n",
       "      <th>pubchem_ID</th>\n",
       "      <th>side_effect</th>\n",
       "    </tr>\n",
       "  </thead>\n",
       "  <tbody>\n",
       "    <tr>\n",
       "      <th>1</th>\n",
       "      <td>10917</td>\n",
       "      <td>Abdominal pain</td>\n",
       "    </tr>\n",
       "    <tr>\n",
       "      <th>3</th>\n",
       "      <td>10917</td>\n",
       "      <td>Gastrointestinal pain</td>\n",
       "    </tr>\n",
       "    <tr>\n",
       "      <th>6</th>\n",
       "      <td>10917</td>\n",
       "      <td>Amblyopia</td>\n",
       "    </tr>\n",
       "    <tr>\n",
       "      <th>8</th>\n",
       "      <td>10917</td>\n",
       "      <td>Anaemia</td>\n",
       "    </tr>\n",
       "    <tr>\n",
       "      <th>10</th>\n",
       "      <td>10917</td>\n",
       "      <td>Decreased appetite</td>\n",
       "    </tr>\n",
       "  </tbody>\n",
       "</table>\n",
       "</div>"
      ],
      "text/plain": [
       "    pubchem_ID            side_effect\n",
       "1        10917         Abdominal pain\n",
       "3        10917  Gastrointestinal pain\n",
       "6        10917              Amblyopia\n",
       "8        10917                Anaemia\n",
       "10       10917     Decreased appetite"
      ]
     },
     "execution_count": 43,
     "metadata": {},
     "output_type": "execute_result"
    }
   ],
   "source": [
    "sider.head()"
   ]
  },
  {
   "cell_type": "code",
   "execution_count": 45,
   "metadata": {},
   "outputs": [
    {
     "data": {
      "text/plain": [
       "92649"
      ]
     },
     "execution_count": 45,
     "metadata": {},
     "output_type": "execute_result"
    }
   ],
   "source": [
    "len(sider)"
   ]
  },
  {
   "cell_type": "code",
   "execution_count": 46,
   "metadata": {},
   "outputs": [
    {
     "data": {
      "text/plain": [
       "True"
      ]
     },
     "execution_count": 46,
     "metadata": {},
     "output_type": "execute_result"
    }
   ],
   "source": [
    "10917 in overlap"
   ]
  },
  {
   "cell_type": "code",
   "execution_count": 85,
   "metadata": {
    "collapsed": true
   },
   "outputs": [],
   "source": [
    "#sider.to_csv(\"~/Desktop/Harvard/Thesis/Data/SIDER/pubchem_se_dbOverlap_sider.txt\", sep = '\\t', index = False)"
   ]
  },
  {
   "cell_type": "code",
   "execution_count": 47,
   "metadata": {},
   "outputs": [
    {
     "data": {
      "text/plain": [
       "821"
      ]
     },
     "execution_count": 47,
     "metadata": {},
     "output_type": "execute_result"
    }
   ],
   "source": [
    "len(sider.pubchem_ID.unique())"
   ]
  },
  {
   "cell_type": "markdown",
   "metadata": {
    "collapsed": true
   },
   "source": [
    "# Output file with drug-se pairs SIDER using DrugBank PT overlap terms only"
   ]
  },
  {
   "cell_type": "code",
   "execution_count": 64,
   "metadata": {},
   "outputs": [
    {
     "data": {
      "text/html": [
       "<div>\n",
       "<style>\n",
       "    .dataframe thead tr:only-child th {\n",
       "        text-align: right;\n",
       "    }\n",
       "\n",
       "    .dataframe thead th {\n",
       "        text-align: left;\n",
       "    }\n",
       "\n",
       "    .dataframe tbody tr th {\n",
       "        vertical-align: top;\n",
       "    }\n",
       "</style>\n",
       "<table border=\"1\" class=\"dataframe\">\n",
       "  <thead>\n",
       "    <tr style=\"text-align: right;\">\n",
       "      <th></th>\n",
       "      <th>pubchem_ID</th>\n",
       "      <th>side_effect</th>\n",
       "    </tr>\n",
       "  </thead>\n",
       "  <tbody>\n",
       "    <tr>\n",
       "      <th>1</th>\n",
       "      <td>10917</td>\n",
       "      <td>Abdominal pain</td>\n",
       "    </tr>\n",
       "    <tr>\n",
       "      <th>3</th>\n",
       "      <td>10917</td>\n",
       "      <td>Gastrointestinal pain</td>\n",
       "    </tr>\n",
       "    <tr>\n",
       "      <th>6</th>\n",
       "      <td>10917</td>\n",
       "      <td>Amblyopia</td>\n",
       "    </tr>\n",
       "    <tr>\n",
       "      <th>8</th>\n",
       "      <td>10917</td>\n",
       "      <td>Anaemia</td>\n",
       "    </tr>\n",
       "    <tr>\n",
       "      <th>10</th>\n",
       "      <td>10917</td>\n",
       "      <td>Decreased appetite</td>\n",
       "    </tr>\n",
       "  </tbody>\n",
       "</table>\n",
       "</div>"
      ],
      "text/plain": [
       "    pubchem_ID            side_effect\n",
       "1        10917         Abdominal pain\n",
       "3        10917  Gastrointestinal pain\n",
       "6        10917              Amblyopia\n",
       "8        10917                Anaemia\n",
       "10       10917     Decreased appetite"
      ]
     },
     "execution_count": 64,
     "metadata": {},
     "output_type": "execute_result"
    }
   ],
   "source": [
    "sider.head()"
   ]
  },
  {
   "cell_type": "code",
   "execution_count": 2,
   "metadata": {
    "collapsed": true
   },
   "outputs": [],
   "source": [
    "dt = pd.read_csv(\"~/Desktop/Harvard/Thesis/Data/SIDER/smiles/drug_target_pairings.txt\", sep='\\t')"
   ]
  },
  {
   "cell_type": "code",
   "execution_count": 66,
   "metadata": {},
   "outputs": [
    {
     "data": {
      "text/html": [
       "<div>\n",
       "<style>\n",
       "    .dataframe thead tr:only-child th {\n",
       "        text-align: right;\n",
       "    }\n",
       "\n",
       "    .dataframe thead th {\n",
       "        text-align: left;\n",
       "    }\n",
       "\n",
       "    .dataframe tbody tr th {\n",
       "        vertical-align: top;\n",
       "    }\n",
       "</style>\n",
       "<table border=\"1\" class=\"dataframe\">\n",
       "  <thead>\n",
       "    <tr style=\"text-align: right;\">\n",
       "      <th></th>\n",
       "      <th>pubchem_id</th>\n",
       "      <th>uniprot_target</th>\n",
       "    </tr>\n",
       "  </thead>\n",
       "  <tbody>\n",
       "    <tr>\n",
       "      <th>0</th>\n",
       "      <td>10917</td>\n",
       "      <td>Q9H015</td>\n",
       "    </tr>\n",
       "    <tr>\n",
       "      <th>1</th>\n",
       "      <td>10917</td>\n",
       "      <td>O76082</td>\n",
       "    </tr>\n",
       "    <tr>\n",
       "      <th>2</th>\n",
       "      <td>10917</td>\n",
       "      <td>P43155</td>\n",
       "    </tr>\n",
       "    <tr>\n",
       "      <th>3</th>\n",
       "      <td>10917</td>\n",
       "      <td>Q8N8R3</td>\n",
       "    </tr>\n",
       "    <tr>\n",
       "      <th>4</th>\n",
       "      <td>10917</td>\n",
       "      <td>O43772</td>\n",
       "    </tr>\n",
       "  </tbody>\n",
       "</table>\n",
       "</div>"
      ],
      "text/plain": [
       "   pubchem_id uniprot_target\n",
       "0       10917         Q9H015\n",
       "1       10917         O76082\n",
       "2       10917         P43155\n",
       "3       10917         Q8N8R3\n",
       "4       10917         O43772"
      ]
     },
     "execution_count": 66,
     "metadata": {},
     "output_type": "execute_result"
    }
   ],
   "source": [
    "dt.head()"
   ]
  },
  {
   "cell_type": "code",
   "execution_count": 67,
   "metadata": {
    "collapsed": true
   },
   "outputs": [],
   "source": [
    "sider = sider[sider['pubchem_ID'].isin(list(dt.pubchem_id.unique())) == True]"
   ]
  },
  {
   "cell_type": "code",
   "execution_count": 68,
   "metadata": {},
   "outputs": [
    {
     "data": {
      "text/plain": [
       "755"
      ]
     },
     "execution_count": 68,
     "metadata": {},
     "output_type": "execute_result"
    }
   ],
   "source": [
    "len(sider.pubchem_ID.unique())"
   ]
  },
  {
   "cell_type": "code",
   "execution_count": 4,
   "metadata": {
    "collapsed": true
   },
   "outputs": [],
   "source": [
    "sider = pd.read_csv(\"~/Desktop/Harvard/Thesis/Data/SIDER/pubchem_se_siderPT_DB.txt\", sep = '\\t')"
   ]
  },
  {
   "cell_type": "code",
   "execution_count": 6,
   "metadata": {},
   "outputs": [
    {
     "data": {
      "text/plain": [
       "755"
      ]
     },
     "execution_count": 6,
     "metadata": {},
     "output_type": "execute_result"
    }
   ],
   "source": [
    "len(sider.pubchem_ID.unique())"
   ]
  },
  {
   "cell_type": "code",
   "execution_count": 7,
   "metadata": {},
   "outputs": [
    {
     "data": {
      "text/plain": [
       "755"
      ]
     },
     "execution_count": 7,
     "metadata": {},
     "output_type": "execute_result"
    }
   ],
   "source": [
    "len(dt.pubchem_id.unique())"
   ]
  },
  {
   "cell_type": "code",
   "execution_count": null,
   "metadata": {
    "collapsed": true
   },
   "outputs": [],
   "source": []
  },
  {
   "cell_type": "code",
   "execution_count": 3,
   "metadata": {},
   "outputs": [
    {
     "ename": "NameError",
     "evalue": "name 'sider' is not defined",
     "output_type": "error",
     "traceback": [
      "\u001b[0;31m---------------------------------------------------------------------------\u001b[0m",
      "\u001b[0;31mNameError\u001b[0m                                 Traceback (most recent call last)",
      "\u001b[0;32m<ipython-input-3-4ba9dda9c39e>\u001b[0m in \u001b[0;36m<module>\u001b[0;34m()\u001b[0m\n\u001b[0;32m----> 1\u001b[0;31m \u001b[0msider\u001b[0m\u001b[0;34m.\u001b[0m\u001b[0mto_csv\u001b[0m\u001b[0;34m(\u001b[0m\u001b[0;34m\"~/Desktop/Harvard/Thesis/Data/SIDER/pubchem_se_siderPT_DB.txt\"\u001b[0m\u001b[0;34m,\u001b[0m \u001b[0msep\u001b[0m \u001b[0;34m=\u001b[0m \u001b[0;34m'\\t'\u001b[0m\u001b[0;34m,\u001b[0m \u001b[0mindex\u001b[0m \u001b[0;34m=\u001b[0m \u001b[0;32mFalse\u001b[0m\u001b[0;34m)\u001b[0m\u001b[0;34m\u001b[0m\u001b[0m\n\u001b[0m",
      "\u001b[0;31mNameError\u001b[0m: name 'sider' is not defined"
     ]
    }
   ],
   "source": [
    "#sider.to_csv(\"~/Desktop/Harvard/Thesis/Data/SIDER/pubchem_se_siderPT_DB.txt\", sep = '\\t', index = False)"
   ]
  },
  {
   "cell_type": "code",
   "execution_count": null,
   "metadata": {
    "collapsed": true
   },
   "outputs": [],
   "source": []
  }
 ],
 "metadata": {
  "kernelspec": {
   "display_name": "Python 3",
   "language": "python",
   "name": "python3"
  },
  "language_info": {
   "codemirror_mode": {
    "name": "ipython",
    "version": 3
   },
   "file_extension": ".py",
   "mimetype": "text/x-python",
   "name": "python",
   "nbconvert_exporter": "python",
   "pygments_lexer": "ipython3",
   "version": "3.6.1"
  }
 },
 "nbformat": 4,
 "nbformat_minor": 2
}
